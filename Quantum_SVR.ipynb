{
 "cells": [
  {
   "attachments": {},
   "cell_type": "markdown",
   "id": "28140403",
   "metadata": {},
   "source": [
    "# Imports"
   ]
  },
  {
   "cell_type": "code",
   "execution_count": null,
   "id": "95e6bb20",
   "metadata": {
    "id": "95e6bb20",
    "language": "python"
   },
   "outputs": [],
   "source": [
    "import pandas as pd\n",
    "import numpy as np\n",
    "import matplotlib.pyplot as plt\n",
    "from sklearn.svm import SVR\n",
    "from sklearn.preprocessing import MinMaxScaler\n",
    "from sklearn.metrics import mean_squared_error\n",
    "from qiskit_machine_learning.algorithms import QSVR\n",
    "from qiskit.circuit.library import ZZFeatureMap, PauliFeatureMap\n",
    "from qiskit_machine_learning.kernels import FidelityQuantumKernel"
   ]
  },
  {
   "attachments": {},
   "cell_type": "markdown",
   "id": "d0c68881",
   "metadata": {},
   "source": [
    "# Data Operations"
   ]
  },
  {
   "cell_type": "code",
   "execution_count": null,
   "id": "2a747fa0",
   "metadata": {
    "id": "2a747fa0",
    "language": "python"
   },
   "outputs": [],
   "source": [
    "def load_data(file_path, date_column, target_column, garbage_columns):\n",
    "    df = pd.read_excel(file_path)\n",
    "    df = df.drop(columns=garbage_columns)\n",
    "    df[date_column] = pd.to_datetime(df[date_column])\n",
    "    df.set_index(date_column, inplace=True)\n",
    "    return df, df.columns.get_loc(target_column)\n",
    "    # pass"
   ]
  },
  {
   "cell_type": "code",
   "execution_count": null,
   "id": "2df92e2b",
   "metadata": {
    "id": "2df92e2b",
    "language": "python"
   },
   "outputs": [],
   "source": [
    "def split_data(df, train_start, test_start):\n",
    "    train = df.loc[train_start:test_start]\n",
    "    test = df.loc[test_start:]\n",
    "    return train, test"
   ]
  },
  {
   "cell_type": "code",
   "execution_count": null,
   "id": "17138379",
   "metadata": {
    "id": "17138379",
    "language": "python"
   },
   "outputs": [],
   "source": [
    "def scale_data(data_train, data_test, train_vars, target_id):\n",
    "    scaler_feature = MinMaxScaler()\n",
    "    scaler_target = MinMaxScaler()\n",
    "    train_scaled = scaler_feature.fit_transform(data_train.iloc[:, train_vars])\n",
    "    train_target = scaler_target.fit_transform(data_train.iloc[:, target_id].to_frame())\n",
    "    test_scaled = scaler_feature.transform(data_test.iloc[:, train_vars])\n",
    "    test_target = scaler_target.transform(data_test.iloc[:, target_id].to_frame())\n",
    "    return (train_scaled, train_target), (test_scaled, test_target), (scaler_feature, scaler_target)"
   ]
  },
  {
   "cell_type": "code",
   "execution_count": null,
   "id": "f101f385",
   "metadata": {
    "id": "f101f385",
    "language": "python"
   },
   "outputs": [],
   "source": [
    "def create_dataset(X, y, time_steps=1):\n",
    "    Xs, ys = [], []\n",
    "    for i in range(len(X) - time_steps):\n",
    "        v = X[i:i + time_steps]\n",
    "        Xs.append(v)\n",
    "        ys.append(y[i + time_steps])\n",
    "    return np.array(Xs), np.array(ys)"
   ]
  },
  {
   "attachments": {},
   "cell_type": "markdown",
   "id": "29bb92df",
   "metadata": {},
   "source": [
    "# Visualizations"
   ]
  },
  {
   "cell_type": "code",
   "execution_count": null,
   "id": "4bc858de",
   "metadata": {
    "id": "4bc858de",
    "language": "python"
   },
   "outputs": [],
   "source": [
    "def visualize_data(df, target_column):\n",
    "    plt.figure(figsize=(15, 8))\n",
    "    plt.plot(df.index, df[target_column], label=target_column)\n",
    "    plt.xlabel('Date')\n",
    "    plt.ylabel(target_column)\n",
    "    plt.title(f'{target_column} Data')\n",
    "    plt.legend()\n",
    "    plt.show()"
   ]
  },
  {
   "cell_type": "code",
   "execution_count": null,
   "id": "84cf1c15",
   "metadata": {
    "id": "84cf1c15",
    "language": "python"
   },
   "outputs": [],
   "source": [
    "def plot_results(train, test, train_pred_inv, y_train_inv, test_pred_inv, y_test_inv, time_steps):\n",
    "    plt.figure(figsize=(15, 8))\n",
    "    \n",
    "    # Plot for Training Data\n",
    "    plt.plot(train.index[:-1], y_train_inv, label='Actual Population (Train)', color='seagreen', linewidth=2)\n",
    "    plt.plot(train.index[:-1], train_pred_inv, label='Predicted Population (Train)', color='royalblue', linestyle='--', linewidth=2)\n",
    "    plt.xlabel('Date', fontsize=20)\n",
    "    plt.ylabel('Population', fontsize=20)\n",
    "    \n",
    "    plt.title('Training Data: Actual vs Predicted Population', fontsize=16)\n",
    "    plt.legend(fontsize=16)\n",
    "    plt.grid(True, linestyle='--', alpha=0.6)\n",
    "    plt.tight_layout()\n",
    "    plt.show()\n",
    "\n",
    "    plt.figure(figsize=(15, 8))\n",
    "    \n",
    "    # Plot for Testing Data\n",
    "    plt.plot(test.index[:-1], y_test_inv, label='Actual Population (Test)', color='seagreen', linewidth=2)\n",
    "    plt.plot(test.index[:-1], test_pred_inv, label='Predicted Population (Test)', color='crimson', linestyle='--', linewidth=2)\n",
    "    \n",
    "    plt.xlabel('Date', fontsize=14)\n",
    "    plt.ylabel('Population', fontsize=14)\n",
    "    plt.title('Testing Data: Actual vs Predicted Population', fontsize=16)\n",
    "    plt.legend(fontsize=12)\n",
    "    plt.grid(True, linestyle='--', alpha=0.6)\n",
    "    plt.tight_layout()\n",
    "    plt.show()\n"
   ]
  },
  {
   "attachments": {},
   "cell_type": "markdown",
   "id": "4c547ff1",
   "metadata": {},
   "source": [
    "# Trainer, Tester, Forecast Functions"
   ]
  },
  {
   "cell_type": "code",
   "execution_count": null,
   "id": "c8438de9",
   "metadata": {
    "id": "c8438de9",
    "language": "python"
   },
   "outputs": [],
   "source": [
    "def train_qsvr_model(X_train, y_train, gamma=0.5, C=10, epsilon=0.05, kernel = None):\n",
    "    model = QSVR(quantum_kernel=kernel, gamma=gamma, C=C, epsilon=epsilon)\n",
    "    model.fit(X_train.reshape(X_train.shape[0], -1), y_train.reshape(-1))\n",
    "    return model\n",
    "\n",
    "def train_svr_model(X_train, y_train, gamma=0.5, C=10, epsilon=0.05):\n",
    "    model = SVR(gamma=gamma, C=C, epsilon=epsilon)\n",
    "    model.fit(X_train.reshape(X_train.shape[0], -1), y_train.reshape(-1))\n",
    "    return model"
   ]
  },
  {
   "cell_type": "code",
   "execution_count": null,
   "id": "287d3306",
   "metadata": {
    "id": "287d3306",
    "language": "python"
   },
   "outputs": [],
   "source": [
    "def evaluate_model(model, X_train, y_train, X_test, y_test, scaler):\n",
    "    train_pred = model.predict(X_train.reshape(X_train.shape[0], -1))\n",
    "    test_pred = model.predict(X_test.reshape(X_test.shape[0], -1))\n",
    "\n",
    "    train_pred_inv = scaler[1].inverse_transform(train_pred.reshape(-1, 1))\n",
    "    y_train_inv = scaler[1].inverse_transform(y_train.reshape(-1, 1))\n",
    "    test_pred_inv = scaler[1].inverse_transform(test_pred.reshape(-1, 1))\n",
    "    y_test_inv = scaler[1].inverse_transform(y_test.reshape(-1, 1))\n",
    "\n",
    "    mse_train = mean_squared_error(y_train_inv, train_pred_inv)\n",
    "    mse_test = mean_squared_error(y_test_inv, test_pred_inv)\n",
    "\n",
    "    print(\"Mean Squared Error on Training Data:\", mse_train)\n",
    "    print(\"Mean Squared Error on Testing Data:\", mse_test)\n",
    "\n",
    "    return train_pred_inv, y_train_inv, test_pred_inv, y_test_inv"
   ]
  },
  {
   "cell_type": "code",
   "execution_count": null,
   "id": "cQOylEJJ5VL9",
   "metadata": {
    "colab": {
     "base_uri": "https://localhost:8080/",
     "height": 228
    },
    "id": "cQOylEJJ5VL9",
    "outputId": "c666dff8-cab6-4931-b807-c6ebad7e903a"
   },
   "outputs": [],
   "source": [
    "# Evaluate model\n",
    "def test_fun(model, X_train, y_train, X_test, y_test, df_train, df_test, scaler, time_steps):\n",
    "    train_pred_inv, y_train_inv, test_pred_inv, y_test_inv = evaluate_model(model, X_train, y_train, X_test, y_test, scaler)\n",
    "    print(test_pred_inv.shape, y_test_inv.shape)\n",
    "    # Plot results\n",
    "    plot_results(df_train, df_test, train_pred_inv, y_train_inv, test_pred_inv, y_test_inv, time_steps)\n",
    "    data_to_save = {\n",
    "        'train': df_train,\n",
    "        'test': df_test,\n",
    "        'train_pred_inv': train_pred_inv,\n",
    "        'y_train_inv': y_train_inv,\n",
    "        'test_pred_inv': test_pred_inv,\n",
    "        'y_test_inv': y_test_inv,\n",
    "        'time_steps': time_steps\n",
    "    }\n",
    "\n",
    "    # Pickle the dictionary\n",
    "    with open('results.pkl', 'wb') as f:\n",
    "        pickle.dump(data_to_save, f) \n",
    "\n",
    "    print(\"✅ Results saved to 'results.pkl'\")\n",
    "    "
   ]
  },
  {
   "cell_type": "code",
   "execution_count": null,
   "id": "8500d9cc-a892-44c9-a4c3-2d27ad159f49",
   "metadata": {},
   "outputs": [],
   "source": [
    "def forecast(model, X_test, df, scaler):\n",
    "    # Number of future time steps to forecast\n",
    "    future_steps = 52  # Adjust this as needed\n",
    "\n",
    "    # Last `TIME_STEPS` values from the test set to start forecasting\n",
    "    last_sequence = X_test[-1]\n",
    "\n",
    "    # Forecast future values\n",
    "    future_forecast = []\n",
    "    for _ in range(future_steps):\n",
    "        # Predict next value based on the last sequence\n",
    "        next_pred = model.predict(last_sequence.reshape(1, -1))\n",
    "        future_forecast.append(next_pred[0])\n",
    "        # Update the last sequence by removing the first element and adding the predicted value\n",
    "        last_sequence = np.roll(last_sequence, -1)\n",
    "        last_sequence[-1] = next_pred\n",
    "\n",
    "    # Inverse scaling for future forecast\n",
    "    future_forecast_inv = scaler[1].inverse_transform(np.array(future_forecast).reshape(-1, 1))\n",
    "\n",
    "    # Filter out negative values\n",
    "    future_forecast_inv = np.where(future_forecast_inv < 0, np.nan, future_forecast_inv)\n",
    "\n",
    "    # Generate future timestamps\n",
    "    last_date = df.index[-1]\n",
    "    future_dates = pd.date_range(start=last_date, periods=future_steps+1, freq='W')[1:]\n",
    "\n",
    "    # Plotting the future forecast\n",
    "    plt.figure(figsize=(15, 8))\n",
    "    \n",
    "    # Color zones\n",
    "    plt.axhspan(0, 10, facecolor='lightcoral', alpha=0.3, label='Near Extinction (0-10)')\n",
    "    plt.axhspan(10, 20, facecolor='gold', alpha=0.3, label='Endangered (10-20)')\n",
    "    plt.axhspan(20, 30, facecolor='lightskyblue', alpha=0.3, label='Vulnerable (20-30)')\n",
    "    plt.axhspan(30, 40, facecolor='lightgreen', alpha=0.3, label='Stable (30-40)')\n",
    "    plt.axhspan(40, plt.ylim()[1], facecolor='darkgreen', alpha=0.3, label='Healthy (40+)')\n",
    "\n",
    "    # Plot historical and forecast data\n",
    "    plt.plot(df.index, df['Population'], label='Historical Data', color='darkgreen')\n",
    "    plt.plot(future_dates, future_forecast_inv, label='Future Forecast', color='blue')\n",
    "\n",
    "    # Add horizontal zone lines\n",
    "    for y in [0, 10, 20, 30, 40]:\n",
    "        plt.axhline(y=y, color='gray', linestyle='--', linewidth=1)\n",
    "\n",
    "    plt.xlabel('Date')\n",
    "    plt.ylabel('Population')\n",
    "    plt.title('Population Future Forecast with SVR')\n",
    "    plt.legend()\n",
    "    plt.show()\n"
   ]
  },
  {
   "attachments": {},
   "cell_type": "markdown",
   "id": "b41001e0",
   "metadata": {},
   "source": [
    "# Hyperparameters"
   ]
  },
  {
   "cell_type": "code",
   "execution_count": null,
   "id": "a66a250e",
   "metadata": {},
   "outputs": [],
   "source": [
    "# Main execution\n",
    "file_path = 'ArabianGhezzel_WeeklyTimestamps_2007to2024.xlsx'  # Replace with your dataset path\n",
    "date_column = 'Timestamp'  # Replace with your date column name\n",
    "target_column = 'Population'  # Replace with your target column name\n",
    "garbage_columns = ['Region']\n",
    "train_start = '2020-01-01'  # Replace with your training start date\n",
    "test_start = '2024-01-01'  # Replace with your testing start date\n",
    "time_steps = 3"
   ]
  },
  {
   "attachments": {},
   "cell_type": "markdown",
   "id": "wufhlhan5ncC",
   "metadata": {
    "id": "wufhlhan5ncC"
   },
   "source": [
    "# Data Preparation"
   ]
  },
  {
   "cell_type": "code",
   "execution_count": null,
   "id": "0a53ac58",
   "metadata": {
    "colab": {
     "base_uri": "https://localhost:8080/",
     "height": 588
    },
    "id": "0a53ac58",
    "language": "python",
    "outputId": "85000848-17f9-4bf2-b918-2ee7d98e1235"
   },
   "outputs": [],
   "source": [
    "# Load and preprocess data\n",
    "df, target_id = load_data(file_path, date_column, target_column, garbage_columns)\n",
    "\n",
    "#  Understand data\n",
    "visualize_data(df, target_column)\n",
    "\n",
    "print(df.info())\n",
    "\n",
    "# Getting trin variables\n",
    "train_vars = list(range(df.columns.shape[0]))\n",
    "train_vars.remove(target_id)\n",
    "\n",
    "# Split data\n",
    "train, test = split_data(df, train_start, test_start)\n",
    "\n",
    "# Scale data\n",
    "train_scaled, test_scaled, scaler = scale_data(train, test, train_vars, target_id)\n",
    "\n",
    "# Prepare data for training\n",
    "X_train, y_train = create_dataset(train_scaled[0], train_scaled[1], time_steps)\n",
    "X_test, y_test = create_dataset(test_scaled[0], test_scaled[1], time_steps)\n",
    "\n",
    "print(X_train.shape, y_train.shape, train_vars)\n",
    "print(X_test.shape, y_test.shape)"
   ]
  },
  {
   "attachments": {},
   "cell_type": "markdown",
   "id": "Nmg1DpL43gu6",
   "metadata": {
    "id": "Nmg1DpL43gu6"
   },
   "source": [
    "# Train"
   ]
  },
  {
   "cell_type": "code",
   "execution_count": null,
   "id": "7a2ce566-b7b5-4bb8-9c0f-716567fa1c16",
   "metadata": {},
   "outputs": [],
   "source": [
    "# Quantum kernel\n",
    "feature_map = ZZFeatureMap(feature_dimension=6*time_steps, reps=1)\n",
    "qkernel = FidelityQuantumKernel(feature_map=feature_map, enforce_psd=False)\n",
    "\n",
    "print(feature_map.decompose())\n"
   ]
  },
  {
   "cell_type": "code",
   "execution_count": null,
   "id": "qvWezWLo5kwR",
   "metadata": {
    "colab": {
     "base_uri": "https://localhost:8080/"
    },
    "id": "qvWezWLo5kwR",
    "outputId": "87b10a40-c203-4a07-c7ae-90424ea1dbcf"
   },
   "outputs": [],
   "source": [
    "# Train quantum model\n",
    "model_q = train_qsvr_model(X_train, y_train, gamma=0.5, C=10, epsilon=0.05, kernel = qkernel)"
   ]
  },
  {
   "cell_type": "code",
   "execution_count": null,
   "id": "2-wHdcWDC5ud",
   "metadata": {
    "id": "2-wHdcWDC5ud"
   },
   "outputs": [],
   "source": [
    "# Train classical model\n",
    "model_c = train_svr_model(X_train, y_train, gamma=0.5, C=10, epsilon=0.05)"
   ]
  },
  {
   "attachments": {},
   "cell_type": "markdown",
   "id": "ztOeFAC45WAn",
   "metadata": {
    "id": "ztOeFAC45WAn"
   },
   "source": [
    "# Test"
   ]
  },
  {
   "cell_type": "code",
   "execution_count": null,
   "id": "1b1580c7-fafb-4959-8de9-aae695f62e5d",
   "metadata": {
    "scrolled": true
   },
   "outputs": [],
   "source": [
    "test_fun(model_q)"
   ]
  },
  {
   "cell_type": "code",
   "execution_count": null,
   "id": "1f3a5c51-2fd6-4c7d-b05b-3343667d2dd6",
   "metadata": {},
   "outputs": [],
   "source": [
    "test_fun(model_c)"
   ]
  },
  {
   "attachments": {},
   "cell_type": "markdown",
   "id": "Vf8oCzHh3e72",
   "metadata": {
    "id": "Vf8oCzHh3e72"
   },
   "source": [
    "# Forecast"
   ]
  },
  {
   "cell_type": "code",
   "execution_count": null,
   "id": "5c46281c-8562-4f8e-8ea8-9c65360cabed",
   "metadata": {},
   "outputs": [],
   "source": [
    "forecast(model_q)"
   ]
  },
  {
   "cell_type": "code",
   "execution_count": null,
   "id": "cbcf9a91-a441-4940-a55b-177175d71f70",
   "metadata": {},
   "outputs": [],
   "source": [
    "forecast(model_c)"
   ]
  }
 ],
 "metadata": {
  "colab": {
   "provenance": []
  },
  "kernelspec": {
   "display_name": "Python 3 [Default]",
   "language": "python",
   "name": "python3"
  },
  "language_info": {
   "codemirror_mode": {
    "name": "ipython",
    "version": 3
   },
   "file_extension": ".py",
   "mimetype": "text/x-python",
   "name": "python",
   "nbconvert_exporter": "python",
   "pygments_lexer": "ipython3",
   "version": "3.10.5"
  }
 },
 "nbformat": 4,
 "nbformat_minor": 5
}
