{
 "cells": [
  {
   "cell_type": "code",
   "execution_count": 2,
   "id": "su6Byjx8uZHd",
   "metadata": {
    "colab": {
     "base_uri": "https://localhost:8080/"
    },
    "id": "su6Byjx8uZHd",
    "outputId": "e623eb14-6d13-42c0-d1c8-26eda3d5fd20"
   },
   "outputs": [
    {
     "name": "stdout",
     "output_type": "stream",
     "text": [
      "Collecting qiskit==1.2.0\n",
      "  Using cached qiskit-1.2.0-cp38-abi3-manylinux_2_17_x86_64.manylinux2014_x86_64.whl.metadata (12 kB)\n",
      "Collecting qiskit_machine_learning\n",
      "  Using cached qiskit_machine_learning-0.8.2-py3-none-any.whl.metadata (13 kB)\n",
      "Collecting rustworkx>=0.15.0 (from qiskit==1.2.0)\n",
      "  Using cached rustworkx-0.16.0-cp39-abi3-manylinux_2_17_x86_64.manylinux2014_x86_64.whl.metadata (10 kB)\n",
      "Requirement already satisfied: numpy<3,>=1.17 in /opt/conda/lib/python3.11/site-packages (from qiskit==1.2.0) (2.2.5)\n",
      "Collecting scipy>=1.5 (from qiskit==1.2.0)\n",
      "  Using cached scipy-1.15.2-cp311-cp311-manylinux_2_17_x86_64.manylinux2014_x86_64.whl.metadata (61 kB)\n",
      "Collecting sympy>=1.3 (from qiskit==1.2.0)\n",
      "  Using cached sympy-1.13.3-py3-none-any.whl.metadata (12 kB)\n",
      "Collecting dill>=0.3 (from qiskit==1.2.0)\n",
      "  Using cached dill-0.4.0-py3-none-any.whl.metadata (10 kB)\n",
      "Requirement already satisfied: python-dateutil>=2.8.0 in /opt/conda/lib/python3.11/site-packages (from qiskit==1.2.0) (2.9.0)\n",
      "Collecting stevedore>=3.0.0 (from qiskit==1.2.0)\n",
      "  Using cached stevedore-5.4.1-py3-none-any.whl.metadata (2.3 kB)\n",
      "Requirement already satisfied: typing-extensions in /opt/conda/lib/python3.11/site-packages (from qiskit==1.2.0) (4.13.2)\n",
      "Collecting symengine>=0.11 (from qiskit==1.2.0)\n",
      "  Using cached symengine-0.14.1-cp311-cp311-manylinux_2_17_x86_64.manylinux2014_x86_64.whl.metadata (1.3 kB)\n",
      "Requirement already satisfied: psutil>=5 in /opt/conda/lib/python3.11/site-packages (from qiskit_machine_learning) (5.9.8)\n",
      "Collecting scikit-learn>=1.2 (from qiskit_machine_learning)\n",
      "  Using cached scikit_learn-1.6.1-cp311-cp311-manylinux_2_17_x86_64.manylinux2014_x86_64.whl.metadata (18 kB)\n",
      "Requirement already satisfied: setuptools>=40.1 in /opt/conda/lib/python3.11/site-packages (from qiskit_machine_learning) (69.5.1)\n",
      "Requirement already satisfied: six>=1.5 in /opt/conda/lib/python3.11/site-packages (from python-dateutil>=2.8.0->qiskit==1.2.0) (1.16.0)\n",
      "Collecting joblib>=1.2.0 (from scikit-learn>=1.2->qiskit_machine_learning)\n",
      "  Using cached joblib-1.4.2-py3-none-any.whl.metadata (5.4 kB)\n",
      "Collecting threadpoolctl>=3.1.0 (from scikit-learn>=1.2->qiskit_machine_learning)\n",
      "  Using cached threadpoolctl-3.6.0-py3-none-any.whl.metadata (13 kB)\n",
      "Collecting pbr>=2.0.0 (from stevedore>=3.0.0->qiskit==1.2.0)\n",
      "  Using cached pbr-6.1.1-py2.py3-none-any.whl.metadata (3.4 kB)\n",
      "Collecting mpmath<1.4,>=1.1.0 (from sympy>=1.3->qiskit==1.2.0)\n",
      "  Using cached mpmath-1.3.0-py3-none-any.whl.metadata (8.6 kB)\n",
      "Using cached qiskit-1.2.0-cp38-abi3-manylinux_2_17_x86_64.manylinux2014_x86_64.whl (4.8 MB)\n",
      "Using cached qiskit_machine_learning-0.8.2-py3-none-any.whl (231 kB)\n",
      "Using cached dill-0.4.0-py3-none-any.whl (119 kB)\n",
      "Using cached rustworkx-0.16.0-cp39-abi3-manylinux_2_17_x86_64.manylinux2014_x86_64.whl (2.1 MB)\n",
      "Using cached scikit_learn-1.6.1-cp311-cp311-manylinux_2_17_x86_64.manylinux2014_x86_64.whl (13.5 MB)\n",
      "Using cached joblib-1.4.2-py3-none-any.whl (301 kB)\n",
      "Using cached scipy-1.15.2-cp311-cp311-manylinux_2_17_x86_64.manylinux2014_x86_64.whl (37.6 MB)\n",
      "Using cached stevedore-5.4.1-py3-none-any.whl (49 kB)\n",
      "Using cached pbr-6.1.1-py2.py3-none-any.whl (108 kB)\n",
      "Using cached symengine-0.14.1-cp311-cp311-manylinux_2_17_x86_64.manylinux2014_x86_64.whl (50.4 MB)\n",
      "Using cached sympy-1.13.3-py3-none-any.whl (6.2 MB)\n",
      "Using cached mpmath-1.3.0-py3-none-any.whl (536 kB)\n",
      "Using cached threadpoolctl-3.6.0-py3-none-any.whl (18 kB)\n",
      "Installing collected packages: mpmath, threadpoolctl, sympy, symengine, scipy, rustworkx, pbr, joblib, dill, stevedore, scikit-learn, qiskit, qiskit_machine_learning\n",
      "\u001b[2K   \u001b[90m━━━━━━━━━━━━━━━━━━━━━━━━━━━━━━━━━━━━━━━━\u001b[0m \u001b[32m13/13\u001b[0m [qiskit_machine_learning]_machine_learning]\n",
      "\u001b[1A\u001b[2KSuccessfully installed dill-0.4.0 joblib-1.4.2 mpmath-1.3.0 pbr-6.1.1 qiskit-1.2.0 qiskit_machine_learning-0.8.2 rustworkx-0.16.0 scikit-learn-1.6.1 scipy-1.15.2 stevedore-5.4.1 symengine-0.14.1 sympy-1.13.3 threadpoolctl-3.6.0\n"
     ]
    }
   ],
   "source": [
    "!pip install qiskit==1.2.0 qiskit_machine_learning"
   ]
  },
  {
   "cell_type": "code",
   "execution_count": 3,
   "id": "9ed7a4de-b043-4b5a-8e11-787c960eef06",
   "metadata": {},
   "outputs": [
    {
     "name": "stdout",
     "output_type": "stream",
     "text": [
      "Collecting openpyxl\n",
      "  Using cached openpyxl-3.1.5-py2.py3-none-any.whl.metadata (2.5 kB)\n",
      "Collecting et-xmlfile (from openpyxl)\n",
      "  Using cached et_xmlfile-2.0.0-py3-none-any.whl.metadata (2.7 kB)\n",
      "Using cached openpyxl-3.1.5-py2.py3-none-any.whl (250 kB)\n",
      "Using cached et_xmlfile-2.0.0-py3-none-any.whl (18 kB)\n",
      "Installing collected packages: et-xmlfile, openpyxl\n",
      "\u001b[2K   \u001b[90m━━━━━━━━━━━━━━━━━━━━━━━━━━━━━━━━━━━━━━━━\u001b[0m \u001b[32m2/2\u001b[0m [openpyxl]1/2\u001b[0m [openpyxl]\n",
      "\u001b[1A\u001b[2KSuccessfully installed et-xmlfile-2.0.0 openpyxl-3.1.5\n"
     ]
    }
   ],
   "source": [
    "!pip install openpyxl"
   ]
  },
  {
   "cell_type": "code",
   "execution_count": 4,
   "id": "95e6bb20",
   "metadata": {
    "id": "95e6bb20",
    "language": "python"
   },
   "outputs": [],
   "source": [
    "import pandas as pd\n",
    "import numpy as np\n",
    "import matplotlib.pyplot as plt\n",
    "from sklearn.svm import SVR\n",
    "from sklearn.preprocessing import MinMaxScaler\n",
    "from sklearn.metrics import mean_squared_error\n",
    "from qiskit_machine_learning.algorithms import QSVR\n",
    "from qiskit.circuit.library import ZZFeatureMap, PauliFeatureMap\n",
    "from qiskit_machine_learning.kernels import FidelityQuantumKernel"
   ]
  },
  {
   "cell_type": "code",
   "execution_count": 5,
   "id": "2a747fa0",
   "metadata": {
    "id": "2a747fa0",
    "language": "python"
   },
   "outputs": [],
   "source": [
    "def load_and_preprocess_data(file_path, date_column, target_column, garbage_columns):\n",
    "    df = pd.read_excel(file_path)\n",
    "    df = df.drop(columns=garbage_columns)\n",
    "    df[date_column] = pd.to_datetime(df[date_column])\n",
    "    df.set_index(date_column, inplace=True)\n",
    "    return df, df.columns.get_loc(target_column)\n",
    "    # pass"
   ]
  },
  {
   "cell_type": "code",
   "execution_count": 6,
   "id": "4bc858de",
   "metadata": {
    "id": "4bc858de",
    "language": "python"
   },
   "outputs": [],
   "source": [
    "def visualize_data(df, target_column):\n",
    "    plt.figure(figsize=(15, 8))\n",
    "    plt.plot(df.index, df[target_column], label=target_column)\n",
    "    plt.xlabel('Date')\n",
    "    plt.ylabel(target_column)\n",
    "    plt.title(f'{target_column} Data')\n",
    "    plt.legend()\n",
    "    plt.show()"
   ]
  },
  {
   "cell_type": "code",
   "execution_count": 7,
   "id": "2df92e2b",
   "metadata": {
    "id": "2df92e2b",
    "language": "python"
   },
   "outputs": [],
   "source": [
    "def split_data(df, train_start, test_start):\n",
    "    train = df.loc[train_start:test_start]\n",
    "    test = df.loc[test_start:]\n",
    "    return train, test"
   ]
  },
  {
   "cell_type": "code",
   "execution_count": 26,
   "id": "17138379",
   "metadata": {
    "id": "17138379",
    "language": "python"
   },
   "outputs": [],
   "source": [
    "def scale_data(data_train, data_test, train_vars, target_id):\n",
    "    scaler_feature = MinMaxScaler()\n",
    "    scaler_target = MinMaxScaler()\n",
    "    train_scaled = scaler_feature.fit_transform(data_train.iloc[:, train_vars])\n",
    "    train_target = scaler_target.fit_transform(data_train.iloc[:, target_id].to_frame())\n",
    "    test_scaled = scaler_feature.transform(data_test.iloc[:, train_vars])\n",
    "    test_target = scaler_target.transform(data_test.iloc[:, target_id].to_frame())\n",
    "    return (train_scaled, train_target), (test_scaled, test_target), (scaler_feature, scaler_target)"
   ]
  },
  {
   "cell_type": "code",
   "execution_count": 9,
   "id": "f101f385",
   "metadata": {
    "id": "f101f385",
    "language": "python"
   },
   "outputs": [],
   "source": [
    "def create_dataset(X, y, time_steps=1):\n",
    "    Xs, ys = [], []\n",
    "    for i in range(len(X) - time_steps):\n",
    "        v = X[i:i + time_steps]\n",
    "        Xs.append(v)\n",
    "        ys.append(y[i + time_steps])\n",
    "    return np.array(Xs), np.array(ys)"
   ]
  },
  {
   "cell_type": "code",
   "execution_count": 10,
   "id": "c8438de9",
   "metadata": {
    "id": "c8438de9",
    "language": "python"
   },
   "outputs": [],
   "source": [
    "def train_qsvr_model(X_train, y_train, gamma=0.5, C=10, epsilon=0.05, kernel = None):\n",
    "    model = QSVR(quantum_kernel=kernel, gamma=gamma, C=C, epsilon=epsilon)\n",
    "    model.fit(X_train.reshape(X_train.shape[0], -1), y_train.reshape(-1))\n",
    "    return model\n",
    "\n",
    "def train_svr_model(X_train, y_train, gamma=0.5, C=10, epsilon=0.05):\n",
    "    model = SVR(gamma=gamma, C=C, epsilon=epsilon)\n",
    "    model.fit(X_train.reshape(X_train.shape[0], -1), y_train.reshape(-1))\n",
    "    return model"
   ]
  },
  {
   "cell_type": "code",
   "execution_count": 43,
   "id": "287d3306",
   "metadata": {
    "id": "287d3306",
    "language": "python"
   },
   "outputs": [],
   "source": [
    "def evaluate_model(model, X_train, y_train, X_test, y_test, scaler):\n",
    "    train_pred = model.predict(X_train.reshape(X_train.shape[0], -1))\n",
    "    test_pred = model.predict(X_test.reshape(X_test.shape[0], -1))\n",
    "\n",
    "    train_pred_inv = scaler[1].inverse_transform(train_pred.reshape(-1, 1))\n",
    "    y_train_inv = scaler[1].inverse_transform(y_train.reshape(-1, 1))\n",
    "    test_pred_inv = scaler[1].inverse_transform(test_pred.reshape(-1, 1))\n",
    "    y_test_inv = scaler[1].inverse_transform(y_test.reshape(-1, 1))\n",
    "\n",
    "    mse_train = mean_squared_error(y_train_inv, train_pred_inv)\n",
    "    mse_test = mean_squared_error(y_test_inv, test_pred_inv)\n",
    "\n",
    "    print(\"Mean Squared Error on Training Data:\", mse_train)\n",
    "    print(\"Mean Squared Error on Testing Data:\", mse_test)\n",
    "\n",
    "    return train_pred_inv, y_train_inv, test_pred_inv, y_test_inv"
   ]
  },
  {
   "cell_type": "code",
   "execution_count": 65,
   "id": "84cf1c15",
   "metadata": {
    "id": "84cf1c15",
    "language": "python"
   },
   "outputs": [],
   "source": [
    "def plot_results(train, test, train_pred_inv, y_train_inv, test_pred_inv, y_test_inv, time_steps):\n",
    "    plt.figure(figsize=(15, 8))\n",
    "    plt.plot(train.index[:-1], y_train_inv, label='Original (Train)', color='darkgreen')\n",
    "    plt.plot(train.index[:-1], train_pred_inv, label='Predicted (Train)', color='red')\n",
    "    plt.xlabel('Date')\n",
    "    plt.ylabel('Target Variable')\n",
    "    plt.title('Training Dataset Results')\n",
    "    plt.legend()\n",
    "    plt.show()\n",
    "\n",
    "    plt.figure(figsize=(15, 8))\n",
    "    plt.plot(test.index[:-1], y_test_inv, label='Original (Test)', color='darkgreen')\n",
    "    plt.plot(test.index[:-1], test_pred_inv, label='Predicted (Test)', color='red')\n",
    "    plt.xlabel('Date')\n",
    "    plt.ylabel('Target Variable')\n",
    "    plt.title('Testing Dataset Results')\n",
    "    plt.legend()\n",
    "    plt.show()"
   ]
  },
  {
   "cell_type": "markdown",
   "id": "wufhlhan5ncC",
   "metadata": {
    "id": "wufhlhan5ncC"
   },
   "source": [
    "#Data prep"
   ]
  },
  {
   "cell_type": "code",
   "execution_count": 84,
   "id": "0a53ac58",
   "metadata": {
    "colab": {
     "base_uri": "https://localhost:8080/",
     "height": 588
    },
    "id": "0a53ac58",
    "language": "python",
    "outputId": "85000848-17f9-4bf2-b918-2ee7d98e1235"
   },
   "outputs": [
    {
     "data": {
      "image/png": "[encoded data removed]",
      "text/plain": [
       "<Figure size 1500x800 with 1 Axes>"
      ]
     },
     "metadata": {},
     "output_type": "display_data"
    },
    {
     "name": "stdout",
     "output_type": "stream",
     "text": [
      "<class 'pandas.core.frame.DataFrame'>\n",
      "DatetimeIndex: 939 entries, 2007-01-07 07:52:42 to 2024-12-29 06:14:56\n",
      "Data columns (total 7 columns):\n",
      " #   Column                  Non-Null Count  Dtype  \n",
      "---  ------                  --------------  -----  \n",
      " 0   Population              939 non-null    int64  \n",
      " 1   10m u wind              939 non-null    float64\n",
      " 2   10m v wind              939 non-null    float64\n",
      " 3   2m temp                 939 non-null    float64\n",
      " 4   avg sea level pressure  939 non-null    float64\n",
      " 5   surface pressure        939 non-null    float64\n",
      " 6   total precipitation     939 non-null    float64\n",
      "dtypes: float64(6), int64(1)\n",
      "memory usage: 58.7 KB\n",
      "None\n",
      "(104, 1, 6) (104, 1) [1, 2, 3, 4, 5, 6]\n",
      "(51, 1, 6) (51, 1)\n"
     ]
    }
   ],
   "source": [
    "# Main execution\n",
    "file_path = 'ArabianGhezzel_WeeklyTimestamps_2007to2024.xlsx'  # Replace with your dataset path\n",
    "date_column = 'Timestamp'  # Replace with your date column name\n",
    "target_column = 'Population'  # Replace with your target column name\n",
    "garbage_columns = ['Region']\n",
    "train_start = '2022-01-01'  # Replace with your training start date\n",
    "test_start = '2024-01-01'  # Replace with your testing start date\n",
    "time_steps = 1\n",
    "\n",
    "# Load and preprocess data\n",
    "df, target_id = load_and_preprocess_data(file_path, date_column, target_column, garbage_columns)\n",
    "visualize_data(df, target_column)\n",
    "\n",
    "print(df.info())\n",
    "\n",
    "# Getting trin variables\n",
    "train_vars = list(range(df.columns.shape[0]))\n",
    "train_vars.remove(target_id)\n",
    "\n",
    "# Split data\n",
    "train, test = split_data(df, train_start, test_start)\n",
    "\n",
    "# Scale data\n",
    "train_scaled, test_scaled, scaler = scale_data(train, test, train_vars, target_id)\n",
    "\n",
    "# print(target_id, train, train_scaled)\n",
    "\n",
    "\n",
    "# Prepare data for training\n",
    "X_train, y_train = create_dataset(train_scaled[0], train_scaled[1], time_steps)\n",
    "X_test, y_test = create_dataset(test_scaled[0], test_scaled[1], time_steps)\n",
    "\n",
    "print(X_train.shape, y_train.shape, train_vars)\n",
    "print(X_test.shape, y_test.shape)"
   ]
  },
  {
   "cell_type": "markdown",
   "id": "Nmg1DpL43gu6",
   "metadata": {
    "id": "Nmg1DpL43gu6"
   },
   "source": [
    "#Train"
   ]
  },
  {
   "cell_type": "code",
   "execution_count": 85,
   "id": "7a2ce566-b7b5-4bb8-9c0f-716567fa1c16",
   "metadata": {},
   "outputs": [
    {
     "name": "stdout",
     "output_type": "stream",
     "text": [
      "     ┌───┐┌─────────────┐                                               »\n",
      "q_0: ┤ H ├┤ P(2.0*x[0]) ├──■────────────────────────────────────■────■──»\n",
      "     ├───┤├─────────────┤┌─┴─┐┌──────────────────────────────┐┌─┴─┐  │  »\n",
      "q_1: ┤ H ├┤ P(2.0*x[1]) ├┤ X ├┤ P(2.0*(π - x[0])*(π - x[1])) ├┤ X ├──┼──»\n",
      "     ├───┤├─────────────┤└───┘└──────────────────────────────┘└───┘┌─┴─┐»\n",
      "q_2: ┤ H ├┤ P(2.0*x[2]) ├──────────────────────────────────────────┤ X ├»\n",
      "     ├───┤├─────────────┤                                          └───┘»\n",
      "q_3: ┤ H ├┤ P(2.0*x[3]) ├───────────────────────────────────────────────»\n",
      "     ├───┤├─────────────┤                                               »\n",
      "q_4: ┤ H ├┤ P(2.0*x[4]) ├───────────────────────────────────────────────»\n",
      "     ├───┤├─────────────┤                                               »\n",
      "q_5: ┤ H ├┤ P(2.0*x[5]) ├───────────────────────────────────────────────»\n",
      "     └───┘└─────────────┘                                               »\n",
      "«                                                    »\n",
      "«q_0: ──────────────────────────────────■─────────■──»\n",
      "«                                       │         │  »\n",
      "«q_1: ──────────────────────────────────┼────■────┼──»\n",
      "«     ┌──────────────────────────────┐┌─┴─┐┌─┴─┐  │  »\n",
      "«q_2: ┤ P(2.0*(π - x[0])*(π - x[2])) ├┤ X ├┤ X ├──┼──»\n",
      "«     └──────────────────────────────┘└───┘└───┘┌─┴─┐»\n",
      "«q_3: ──────────────────────────────────────────┤ X ├»\n",
      "«                                               └───┘»\n",
      "«q_4: ───────────────────────────────────────────────»\n",
      "«                                                    »\n",
      "«q_5: ───────────────────────────────────────────────»\n",
      "«                                                    »\n",
      "«                                                         »\n",
      "«q_0: ───────────────────────────────────────■─────────■──»\n",
      "«                                            │         │  »\n",
      "«q_1: ──────────────────────────────────■────┼────■────┼──»\n",
      "«     ┌──────────────────────────────┐┌─┴─┐  │    │    │  »\n",
      "«q_2: ┤ P(2.0*(π - x[1])*(π - x[2])) ├┤ X ├──┼────┼────┼──»\n",
      "«     ├──────────────────────────────┤└───┘┌─┴─┐┌─┴─┐  │  »\n",
      "«q_3: ┤ P(2.0*(π - x[0])*(π - x[3])) ├─────┤ X ├┤ X ├──┼──»\n",
      "«     └──────────────────────────────┘     └───┘└───┘┌─┴─┐»\n",
      "«q_4: ───────────────────────────────────────────────┤ X ├»\n",
      "«                                                    └───┘»\n",
      "«q_5: ────────────────────────────────────────────────────»\n",
      "«                                                         »\n",
      "«                                                              »\n",
      "«q_0: ───────────────────────────────────────■──────────────■──»\n",
      "«                                            │              │  »\n",
      "«q_1: ──────────────────────────────────■────┼─────────■────┼──»\n",
      "«                                       │    │         │    │  »\n",
      "«q_2: ──────────────────────────────────┼────┼────■────┼────┼──»\n",
      "«     ┌──────────────────────────────┐┌─┴─┐  │  ┌─┴─┐  │    │  »\n",
      "«q_3: ┤ P(2.0*(π - x[1])*(π - x[3])) ├┤ X ├──┼──┤ X ├──┼────┼──»\n",
      "«     ├──────────────────────────────┤└───┘┌─┴─┐└───┘┌─┴─┐  │  »\n",
      "«q_4: ┤ P(2.0*(π - x[0])*(π - x[4])) ├─────┤ X ├─────┤ X ├──┼──»\n",
      "«     └──────────────────────────────┘     └───┘     └───┘┌─┴─┐»\n",
      "«q_5: ────────────────────────────────────────────────────┤ X ├»\n",
      "«                                                         └───┘»\n",
      "«                                                              »\n",
      "«q_0: ────────────────────────────────────────────■────────────»\n",
      "«                                                 │            »\n",
      "«q_1: ───────────────────────────────────────■────┼─────────■──»\n",
      "«                                            │    │         │  »\n",
      "«q_2: ──────────────────────────────────■────┼────┼────■────┼──»\n",
      "«     ┌──────────────────────────────┐┌─┴─┐  │    │    │    │  »\n",
      "«q_3: ┤ P(2.0*(π - x[2])*(π - x[3])) ├┤ X ├──┼────┼────┼────┼──»\n",
      "«     ├──────────────────────────────┤└───┘┌─┴─┐  │  ┌─┴─┐  │  »\n",
      "«q_4: ┤ P(2.0*(π - x[1])*(π - x[4])) ├─────┤ X ├──┼──┤ X ├──┼──»\n",
      "«     ├──────────────────────────────┤     └───┘┌─┴─┐└───┘┌─┴─┐»\n",
      "«q_5: ┤ P(2.0*(π - x[0])*(π - x[5])) ├──────────┤ X ├─────┤ X ├»\n",
      "«     └──────────────────────────────┘          └───┘     └───┘»\n",
      "«                                                         »\n",
      "«q_0: ────────────────────────────────────────────────────»\n",
      "«                                                         »\n",
      "«q_1: ───────────────────────────────────────■────────────»\n",
      "«                                            │            »\n",
      "«q_2: ──────────────────────────────────■────┼─────────■──»\n",
      "«                                       │    │         │  »\n",
      "«q_3: ──────────────────────────────────┼────┼────■────┼──»\n",
      "«     ┌──────────────────────────────┐┌─┴─┐  │  ┌─┴─┐  │  »\n",
      "«q_4: ┤ P(2.0*(π - x[2])*(π - x[4])) ├┤ X ├──┼──┤ X ├──┼──»\n",
      "«     ├──────────────────────────────┤└───┘┌─┴─┐└───┘┌─┴─┐»\n",
      "«q_5: ┤ P(2.0*(π - x[1])*(π - x[5])) ├─────┤ X ├─────┤ X ├»\n",
      "«     └──────────────────────────────┘     └───┘     └───┘»\n",
      "«                                                    »\n",
      "«q_0: ───────────────────────────────────────────────»\n",
      "«                                                    »\n",
      "«q_1: ───────────────────────────────────────────────»\n",
      "«                                                    »\n",
      "«q_2: ───────────────────────────────────────■───────»\n",
      "«                                            │       »\n",
      "«q_3: ──────────────────────────────────■────┼────■──»\n",
      "«     ┌──────────────────────────────┐┌─┴─┐  │    │  »\n",
      "«q_4: ┤ P(2.0*(π - x[3])*(π - x[4])) ├┤ X ├──┼────┼──»\n",
      "«     ├──────────────────────────────┤└───┘┌─┴─┐┌─┴─┐»\n",
      "«q_5: ┤ P(2.0*(π - x[2])*(π - x[5])) ├─────┤ X ├┤ X ├»\n",
      "«     └──────────────────────────────┘     └───┘└───┘»\n",
      "«                                               »\n",
      "«q_0: ──────────────────────────────────────────»\n",
      "«                                               »\n",
      "«q_1: ──────────────────────────────────────────»\n",
      "«                                               »\n",
      "«q_2: ──────────────────────────────────────────»\n",
      "«                                               »\n",
      "«q_3: ──────────────────────────────────■───────»\n",
      "«                                       │       »\n",
      "«q_4: ──────────────────────────────────┼────■──»\n",
      "«     ┌──────────────────────────────┐┌─┴─┐┌─┴─┐»\n",
      "«q_5: ┤ P(2.0*(π - x[3])*(π - x[5])) ├┤ X ├┤ X ├»\n",
      "«     └──────────────────────────────┘└───┘└───┘»\n",
      "«                                          \n",
      "«q_0: ─────────────────────────────────────\n",
      "«                                          \n",
      "«q_1: ─────────────────────────────────────\n",
      "«                                          \n",
      "«q_2: ─────────────────────────────────────\n",
      "«                                          \n",
      "«q_3: ─────────────────────────────────────\n",
      "«                                          \n",
      "«q_4: ──────────────────────────────────■──\n",
      "«     ┌──────────────────────────────┐┌─┴─┐\n",
      "«q_5: ┤ P(2.0*(π - x[4])*(π - x[5])) ├┤ X ├\n",
      "«     └──────────────────────────────┘└───┘\n"
     ]
    }
   ],
   "source": [
    "# kernel\n",
    "feature_map = ZZFeatureMap(feature_dimension=6*time_steps, reps=1)\n",
    "qkernel = FidelityQuantumKernel(feature_map=feature_map, enforce_psd=False)\n",
    "\n",
    "print(feature_map.decompose())\n"
   ]
  },
  {
   "cell_type": "code",
   "execution_count": 86,
   "id": "qvWezWLo5kwR",
   "metadata": {
    "colab": {
     "base_uri": "https://localhost:8080/"
    },
    "id": "qvWezWLo5kwR",
    "outputId": "87b10a40-c203-4a07-c7ae-90424ea1dbcf"
   },
   "outputs": [],
   "source": [
    "# Train model\n",
    "model_q = train_qsvr_model(X_train, y_train, gamma=0.5, C=10, epsilon=0.05, kernel = qkernel)"
   ]
  },
  {
   "cell_type": "code",
   "execution_count": 87,
   "id": "2-wHdcWDC5ud",
   "metadata": {
    "id": "2-wHdcWDC5ud"
   },
   "outputs": [],
   "source": [
    "model_c = train_svr_model(X_train, y_train, gamma=0.5, C=10, epsilon=0.05)"
   ]
  },
  {
   "cell_type": "markdown",
   "id": "ztOeFAC45WAn",
   "metadata": {
    "id": "ztOeFAC45WAn"
   },
   "source": [
    "#Test"
   ]
  },
  {
   "cell_type": "code",
   "execution_count": 88,
   "id": "cQOylEJJ5VL9",
   "metadata": {
    "colab": {
     "base_uri": "https://localhost:8080/",
     "height": 228
    },
    "id": "cQOylEJJ5VL9",
    "outputId": "c666dff8-cab6-4931-b807-c6ebad7e903a"
   },
   "outputs": [],
   "source": [
    "# Evaluate model\n",
    "def test(model):\n",
    "    train_pred_inv, y_train_inv, test_pred_inv, y_test_inv = evaluate_model(model, X_train, y_train, X_test, y_test, scaler)\n",
    "    print(test_pred_inv.shape, y_test_inv.shape)\n",
    "    # Plot results\n",
    "    plot_results(train, test, train_pred_inv, y_train_inv, test_pred_inv, y_test_inv, time_steps)"
   ]
  },
  {
   "cell_type": "code",
   "execution_count": null,
   "id": "1b1580c7-fafb-4959-8de9-aae695f62e5d",
   "metadata": {},
   "outputs": [],
   "source": [
    "test(model_q)"
   ]
  },
  {
   "cell_type": "code",
   "execution_count": null,
   "id": "1f3a5c51-2fd6-4c7d-b05b-3343667d2dd6",
   "metadata": {},
   "outputs": [],
   "source": [
    "test(model_c)"
   ]
  },
  {
   "cell_type": "markdown",
   "id": "Vf8oCzHh3e72",
   "metadata": {
    "id": "Vf8oCzHh3e72"
   },
   "source": [
    "#Forecast"
   ]
  },
  {
   "cell_type": "code",
   "execution_count": null,
   "id": "erCIabhht_zi",
   "metadata": {
    "id": "erCIabhht_zi"
   },
   "outputs": [],
   "source": [
    "def forecast(model):\n",
    "  # Number of future time steps to forecast\n",
    "  future_steps = 52  # Adjust this as needed\n",
    "\n",
    "  # Last `TIME_STEPS` values from the test set to start forecasting\n",
    "  last_sequence = X_test[-1]\n",
    "\n",
    "  # Forecast future values\n",
    "  future_forecast = []\n",
    "  for _ in range(future_steps):\n",
    "      # Predict next value based on the last sequence\n",
    "      next_pred = model.predict(last_sequence.reshape(1, -1))\n",
    "      future_forecast.append(next_pred[0])\n",
    "      # Update the last sequence by removing the first element and adding the predicted value\n",
    "      last_sequence = np.roll(last_sequence, -1)\n",
    "      last_sequence[-1] = next_pred\n",
    "\n",
    "  # Inverse scaling for future forecast\n",
    "  future_forecast_inv = scaler[1].inverse_transform(np.array(future_forecast).reshape(-1, 1))\n",
    "\n",
    "  # Generate future timestamps\n",
    "  last_date = df.index[-1]\n",
    "  future_dates = pd.date_range(start=last_date, periods=future_steps+1, freq='W')[1:]\n",
    "  print(future_dates, df.index)\n",
    "  # Plotting the future forecast\n",
    "  plt.figure(figsize=(15, 8))\n",
    "  plt.plot(df.index, df['Population'], label='Historical Data', color='darkgreen')\n",
    "  plt.plot(future_dates, future_forecast_inv, label='Future Forecast', color='blue')\n",
    "  plt.xlabel('Date')\n",
    "  plt.ylabel('Population Density')\n",
    "  plt.title('Population Density Future Forecast with SVR')\n",
    "  plt.legend()\n",
    "  plt.show()\n"
   ]
  },
  {
   "cell_type": "code",
   "execution_count": null,
   "id": "iOZqbrEJDJcW",
   "metadata": {
    "id": "iOZqbrEJDJcW"
   },
   "outputs": [],
   "source": [
    "forecast(model_q)"
   ]
  },
  {
   "cell_type": "code",
   "execution_count": null,
   "id": "e8f14b93-c49c-4ac3-8317-fc676981a8f8",
   "metadata": {},
   "outputs": [],
   "source": [
    "forecast(model_c)"
   ]
  }
 ],
 "metadata": {
  "colab": {
   "provenance": []
  },
  "kernelspec": {
   "display_name": "Python 3 [Default]",
   "language": "python",
   "name": "python3"
  },
  "language_info": {
   "codemirror_mode": {
    "name": "ipython",
    "version": 3
   },
   "file_extension": ".py",
   "mimetype": "text/x-python",
   "name": "python",
   "nbconvert_exporter": "python",
   "pygments_lexer": "ipython3",
   "version": "3.11.9"
  }
 },
 "nbformat": 4,
 "nbformat_minor": 5
}
